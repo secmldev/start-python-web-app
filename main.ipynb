{
 "cells": [
  {
   "cell_type": "code",
   "execution_count": 1,
   "id": "1ce0f3e1",
   "metadata": {},
   "outputs": [
    {
     "name": "stdout",
     "output_type": "stream",
     "text": [
      " * Serving Flask app \"__main__\" (lazy loading)\n",
      " * Environment: production\n",
      "\u001b[31m   WARNING: This is a development server. Do not use it in a production deployment.\u001b[0m\n",
      "\u001b[2m   Use a production WSGI server instead.\u001b[0m\n",
      " * Debug mode: off\n"
     ]
    },
    {
     "name": "stderr",
     "output_type": "stream",
     "text": [
      " * Running on http://127.0.0.1:8080/ (Press CTRL+C to quit)\n",
      "127.0.0.1 - - [08/Jul/2023 14:12:13] \"GET / HTTP/1.1\" 200 -\n",
      "127.0.0.1 - - [08/Jul/2023 14:12:13] \"GET /favicon.ico HTTP/1.1\" 200 -\n"
     ]
    }
   ],
   "source": [
    "from flask import Flask\n",
    "\n",
    "app = Flask(__name__)\n",
    "\n",
    "@app.route(\"/\")\n",
    "def hello() -> str:\n",
    "    return \"Hello World\"\n",
    "\n",
    "\n",
    "@app.route('/nitin')\n",
    "def welcome():\n",
    "    return 'welcome Nitin, what is your order'\n",
    "\n",
    "@app.route('/vishnu')\n",
    "def greet():\n",
    "    return 'Welcome Vishnu ji, what is your order'\n",
    "\n",
    "@app.route('/hari')\n",
    "def namaskar():\n",
    "    return 'Welcome Hari ji, what is your order'\n",
    "\n",
    "@app.route('/<name>')\n",
    "def good_morning(name):\n",
    "    return 'Welcome ' +  name +', you are new, what is your order'\n",
    "\n",
    "\n",
    "if __name__ == \"__main__\":\n",
    "    app.run(host=\"127.0.0.1\", port=8080, debug=False)"
   ]
  },
  {
   "cell_type": "code",
   "execution_count": null,
   "id": "e4dde945",
   "metadata": {},
   "outputs": [],
   "source": []
  }
 ],
 "metadata": {
  "kernelspec": {
   "display_name": "Python 3 (ipykernel)",
   "language": "python",
   "name": "python3"
  },
  "language_info": {
   "codemirror_mode": {
    "name": "ipython",
    "version": 3
   },
   "file_extension": ".py",
   "mimetype": "text/x-python",
   "name": "python",
   "nbconvert_exporter": "python",
   "pygments_lexer": "ipython3",
   "version": "3.9.7"
  }
 },
 "nbformat": 4,
 "nbformat_minor": 5
}
